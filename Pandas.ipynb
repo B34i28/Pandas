{
 "cells": [
  {
   "cell_type": "markdown",
   "id": "d7cb69a0",
   "metadata": {},
   "source": [
    "# Pandas\n",
    "- Data analysis library\n",
    "- Series      Single Dimension\n",
    "- Dataframe    Multidimensional"
   ]
  },
  {
   "cell_type": "code",
   "execution_count": 1,
   "id": "f0b1f2da",
   "metadata": {},
   "outputs": [],
   "source": [
    "import pandas as pd"
   ]
  },
  {
   "cell_type": "markdown",
   "id": "c9dd2008",
   "metadata": {},
   "source": [
    "# Series"
   ]
  },
  {
   "cell_type": "code",
   "execution_count": 2,
   "id": "aa2ef846",
   "metadata": {},
   "outputs": [
    {
     "data": {
      "text/plain": [
       "0    1\n",
       "1    2\n",
       "2    4\n",
       "3    5\n",
       "4    6\n",
       "dtype: int64"
      ]
     },
     "execution_count": 2,
     "metadata": {},
     "output_type": "execute_result"
    }
   ],
   "source": [
    "s1 = pd.Series([1,2,4,5,6])\n",
    "s1"
   ]
  },
  {
   "cell_type": "code",
   "execution_count": 3,
   "id": "e35bb8fe",
   "metadata": {},
   "outputs": [
    {
     "data": {
      "text/plain": [
       "pandas.core.series.Series"
      ]
     },
     "execution_count": 3,
     "metadata": {},
     "output_type": "execute_result"
    }
   ],
   "source": [
    "type(s1)"
   ]
  },
  {
   "cell_type": "code",
   "execution_count": 4,
   "id": "c5af6d51",
   "metadata": {},
   "outputs": [
    {
     "data": {
      "text/plain": [
       "0    1\n",
       "1    2\n",
       "2    4\n",
       "3    5\n",
       "4    6\n",
       "dtype: int64"
      ]
     },
     "execution_count": 4,
     "metadata": {},
     "output_type": "execute_result"
    }
   ],
   "source": [
    "s1"
   ]
  },
  {
   "cell_type": "code",
   "execution_count": 5,
   "id": "285f35ac",
   "metadata": {},
   "outputs": [
    {
     "data": {
      "text/plain": [
       "RangeIndex(start=0, stop=5, step=1)"
      ]
     },
     "execution_count": 5,
     "metadata": {},
     "output_type": "execute_result"
    }
   ],
   "source": [
    "s1.index"
   ]
  },
  {
   "cell_type": "code",
   "execution_count": 6,
   "id": "393e5f08",
   "metadata": {},
   "outputs": [
    {
     "data": {
      "text/plain": [
       "array([1, 2, 4, 5, 6], dtype=int64)"
      ]
     },
     "execution_count": 6,
     "metadata": {},
     "output_type": "execute_result"
    }
   ],
   "source": [
    "s1.values"
   ]
  },
  {
   "cell_type": "code",
   "execution_count": 7,
   "id": "640a78a0",
   "metadata": {},
   "outputs": [
    {
     "data": {
      "text/plain": [
       "0    0\n",
       "1    1\n",
       "2    2\n",
       "3    3\n",
       "4    4\n",
       "5    5\n",
       "6    6\n",
       "7    7\n",
       "8    8\n",
       "9    9\n",
       "dtype: int64"
      ]
     },
     "execution_count": 7,
     "metadata": {},
     "output_type": "execute_result"
    }
   ],
   "source": [
    "s3 = pd.Series(range(10))\n",
    "s3"
   ]
  },
  {
   "cell_type": "code",
   "execution_count": 8,
   "id": "fcbe7363",
   "metadata": {},
   "outputs": [
    {
     "data": {
      "text/plain": [
       "0    10\n",
       "1    11\n",
       "2    12\n",
       "3    13\n",
       "4    14\n",
       "5    15\n",
       "6    16\n",
       "7    17\n",
       "8    18\n",
       "9    19\n",
       "dtype: int64"
      ]
     },
     "execution_count": 8,
     "metadata": {},
     "output_type": "execute_result"
    }
   ],
   "source": [
    "s4 = pd.Series(range(10,20))\n",
    "s4"
   ]
  },
  {
   "cell_type": "code",
   "execution_count": 9,
   "id": "ab67fc12",
   "metadata": {},
   "outputs": [
    {
     "data": {
      "text/plain": [
       "0    10\n",
       "1    12\n",
       "2    14\n",
       "3    16\n",
       "4    18\n",
       "5    20\n",
       "6    22\n",
       "7    24\n",
       "8    26\n",
       "9    28\n",
       "dtype: int64"
      ]
     },
     "execution_count": 9,
     "metadata": {},
     "output_type": "execute_result"
    }
   ],
   "source": [
    "s3 + s4"
   ]
  },
  {
   "cell_type": "code",
   "execution_count": 10,
   "id": "93d689b9",
   "metadata": {},
   "outputs": [],
   "source": [
    "import numpy as np"
   ]
  },
  {
   "cell_type": "code",
   "execution_count": 11,
   "id": "c71a09f1",
   "metadata": {},
   "outputs": [
    {
     "data": {
      "text/plain": [
       "array([0, 1, 2, 3, 4])"
      ]
     },
     "execution_count": 11,
     "metadata": {},
     "output_type": "execute_result"
    }
   ],
   "source": [
    "arr1 = np.arange(5)\n",
    "arr1"
   ]
  },
  {
   "cell_type": "code",
   "execution_count": 12,
   "id": "d9a51c54",
   "metadata": {},
   "outputs": [
    {
     "data": {
      "text/plain": [
       "array([0, 1, 2, 3, 4])"
      ]
     },
     "execution_count": 12,
     "metadata": {},
     "output_type": "execute_result"
    }
   ],
   "source": [
    "arr2 = np.arange(5)\n",
    "arr2"
   ]
  },
  {
   "cell_type": "code",
   "execution_count": 13,
   "id": "b24397cd",
   "metadata": {},
   "outputs": [
    {
     "data": {
      "text/plain": [
       "array([0, 2, 4, 6, 8])"
      ]
     },
     "execution_count": 13,
     "metadata": {},
     "output_type": "execute_result"
    }
   ],
   "source": [
    "arr1 + arr2"
   ]
  },
  {
   "cell_type": "markdown",
   "id": "57a329d2",
   "metadata": {},
   "source": [
    "# Lamda Function : Anonymus Function (IIF)"
   ]
  },
  {
   "cell_type": "code",
   "execution_count": 14,
   "id": "6a923a81",
   "metadata": {},
   "outputs": [
    {
     "data": {
      "text/plain": [
       "Ali        34\n",
       "Ahmed      52\n",
       "Irfan      63\n",
       "Khan       35\n",
       "Faisal     75\n",
       "Hassan    100\n",
       "dtype: int64"
      ]
     },
     "execution_count": 14,
     "metadata": {},
     "output_type": "execute_result"
    }
   ],
   "source": [
    "new = pd.Series([34,52,63,35, 75 ,100], index= [\"Ali\",\"Ahmed\",\"Irfan\", \"Khan\", \"Faisal\",\"Hassan\"])\n",
    "new"
   ]
  },
  {
   "cell_type": "code",
   "execution_count": 15,
   "id": "c2254f3a",
   "metadata": {},
   "outputs": [],
   "source": [
    "def myfunc(marks):\n",
    "    return marks/100"
   ]
  },
  {
   "cell_type": "code",
   "execution_count": 16,
   "id": "77855905",
   "metadata": {},
   "outputs": [],
   "source": [
    "new = new.apply(myfunc)"
   ]
  },
  {
   "cell_type": "code",
   "execution_count": 17,
   "id": "057c9a04",
   "metadata": {},
   "outputs": [
    {
     "data": {
      "text/plain": [
       "Ali        34.0\n",
       "Ahmed      52.0\n",
       "Irfan      63.0\n",
       "Khan       35.0\n",
       "Faisal     75.0\n",
       "Hassan    100.0\n",
       "dtype: float64"
      ]
     },
     "execution_count": 17,
     "metadata": {},
     "output_type": "execute_result"
    }
   ],
   "source": [
    "new.apply(lambda x:x*100 )"
   ]
  },
  {
   "cell_type": "code",
   "execution_count": 18,
   "id": "5e4d66a9",
   "metadata": {},
   "outputs": [
    {
     "data": {
      "text/plain": [
       "Ali       0.0034\n",
       "Ahmed     0.0052\n",
       "Irfan     0.0063\n",
       "Khan      0.0035\n",
       "Faisal    0.0075\n",
       "Hassan    0.0100\n",
       "dtype: float64"
      ]
     },
     "execution_count": 18,
     "metadata": {},
     "output_type": "execute_result"
    }
   ],
   "source": [
    "new.apply(lambda x:x/100)"
   ]
  },
  {
   "cell_type": "code",
   "execution_count": 19,
   "id": "ee9ab86e",
   "metadata": {},
   "outputs": [],
   "source": [
    "new = new.apply(lambda x: np.where(x>50, \"Pass\",\"Fail\"))"
   ]
  },
  {
   "cell_type": "code",
   "execution_count": 20,
   "id": "c645251a",
   "metadata": {},
   "outputs": [
    {
     "data": {
      "text/plain": [
       "apple     4\n",
       "banana    6\n",
       "guvava    2\n",
       "orange    6\n",
       "mango     7\n",
       "dtype: int64"
      ]
     },
     "execution_count": 20,
     "metadata": {},
     "output_type": "execute_result"
    }
   ],
   "source": [
    "s2 = pd.Series([4,6,2,6,7], index =[\"apple\",\"banana\",\"guvava\",\"orange\",\"mango\"])\n",
    "s2"
   ]
  },
  {
   "cell_type": "code",
   "execution_count": 21,
   "id": "7ca399cd",
   "metadata": {},
   "outputs": [
    {
     "data": {
      "text/plain": [
       "Index(['apple', 'banana', 'guvava', 'orange', 'mango'], dtype='object')"
      ]
     },
     "execution_count": 21,
     "metadata": {},
     "output_type": "execute_result"
    }
   ],
   "source": [
    "s2.index"
   ]
  },
  {
   "cell_type": "code",
   "execution_count": 22,
   "id": "fcb9d8bc",
   "metadata": {},
   "outputs": [
    {
     "data": {
      "text/plain": [
       "apple     6\n",
       "banana    5\n",
       "guvava    4\n",
       "orange    6\n",
       "mango     3\n",
       "dtype: int64"
      ]
     },
     "execution_count": 22,
     "metadata": {},
     "output_type": "execute_result"
    }
   ],
   "source": [
    "s4 = pd.Series([6,5,4,6,3], index=s2.index)\n",
    "s4"
   ]
  },
  {
   "cell_type": "code",
   "execution_count": 23,
   "id": "42d7f27d",
   "metadata": {},
   "outputs": [
    {
     "data": {
      "text/plain": [
       "apple     100\n",
       "banana    100\n",
       "guvava    100\n",
       "orange    100\n",
       "mango     100\n",
       "dtype: int64"
      ]
     },
     "execution_count": 23,
     "metadata": {},
     "output_type": "execute_result"
    }
   ],
   "source": [
    "s5 = pd.Series(100,index=s2.index)\n",
    "s5"
   ]
  },
  {
   "cell_type": "code",
   "execution_count": 24,
   "id": "05500d91",
   "metadata": {},
   "outputs": [
    {
     "data": {
      "text/plain": [
       "array([ 0.        ,  1.11111111,  2.22222222,  3.33333333,  4.44444444,\n",
       "        5.55555556,  6.66666667,  7.77777778,  8.88888889, 10.        ])"
      ]
     },
     "execution_count": 24,
     "metadata": {},
     "output_type": "execute_result"
    }
   ],
   "source": [
    "np.linspace(0,10,10)"
   ]
  },
  {
   "cell_type": "code",
   "execution_count": 25,
   "id": "e2b105b2",
   "metadata": {},
   "outputs": [
    {
     "data": {
      "text/plain": [
       "6"
      ]
     },
     "execution_count": 25,
     "metadata": {},
     "output_type": "execute_result"
    }
   ],
   "source": [
    "new.count()"
   ]
  },
  {
   "cell_type": "code",
   "execution_count": 26,
   "id": "63be4268",
   "metadata": {},
   "outputs": [
    {
     "data": {
      "text/plain": [
       "Fail    6\n",
       "dtype: int64"
      ]
     },
     "execution_count": 26,
     "metadata": {},
     "output_type": "execute_result"
    }
   ],
   "source": [
    "new.value_counts()"
   ]
  },
  {
   "cell_type": "code",
   "execution_count": 27,
   "id": "912ea72b",
   "metadata": {},
   "outputs": [],
   "source": [
    "np.random.seed(123456)\n",
    "s1 = pd.Series(np.random.randn(3))\n",
    "s2 = pd.Series(np.random.randn(3))"
   ]
  },
  {
   "cell_type": "code",
   "execution_count": 28,
   "id": "c6da8b71",
   "metadata": {},
   "outputs": [
    {
     "data": {
      "text/plain": [
       "0    0.469112\n",
       "1   -0.282863\n",
       "2   -1.509059\n",
       "dtype: float64"
      ]
     },
     "execution_count": 28,
     "metadata": {},
     "output_type": "execute_result"
    }
   ],
   "source": [
    "s1"
   ]
  },
  {
   "cell_type": "code",
   "execution_count": 29,
   "id": "febedb58",
   "metadata": {},
   "outputs": [
    {
     "data": {
      "text/plain": [
       "0   -1.135632\n",
       "1    1.212112\n",
       "2   -0.173215\n",
       "dtype: float64"
      ]
     },
     "execution_count": 29,
     "metadata": {},
     "output_type": "execute_result"
    }
   ],
   "source": [
    "s2"
   ]
  },
  {
   "cell_type": "code",
   "execution_count": 30,
   "id": "43a2d154",
   "metadata": {},
   "outputs": [
    {
     "data": {
      "text/plain": [
       "0    0.469112\n",
       "1   -0.282863\n",
       "2   -1.509059\n",
       "0   -1.135632\n",
       "1    1.212112\n",
       "2   -0.173215\n",
       "dtype: float64"
      ]
     },
     "execution_count": 30,
     "metadata": {},
     "output_type": "execute_result"
    }
   ],
   "source": [
    "combined = pd.concat([s1,s2])\n",
    "combined"
   ]
  },
  {
   "cell_type": "code",
   "execution_count": 31,
   "id": "f12ba0b6",
   "metadata": {},
   "outputs": [
    {
     "data": {
      "text/html": [
       "<div>\n",
       "<style scoped>\n",
       "    .dataframe tbody tr th:only-of-type {\n",
       "        vertical-align: middle;\n",
       "    }\n",
       "\n",
       "    .dataframe tbody tr th {\n",
       "        vertical-align: top;\n",
       "    }\n",
       "\n",
       "    .dataframe thead th {\n",
       "        text-align: right;\n",
       "    }\n",
       "</style>\n",
       "<table border=\"1\" class=\"dataframe\">\n",
       "  <thead>\n",
       "    <tr style=\"text-align: right;\">\n",
       "      <th></th>\n",
       "      <th>index</th>\n",
       "      <th>0</th>\n",
       "    </tr>\n",
       "  </thead>\n",
       "  <tbody>\n",
       "    <tr>\n",
       "      <th>0</th>\n",
       "      <td>0</td>\n",
       "      <td>0.469112</td>\n",
       "    </tr>\n",
       "    <tr>\n",
       "      <th>1</th>\n",
       "      <td>1</td>\n",
       "      <td>-0.282863</td>\n",
       "    </tr>\n",
       "    <tr>\n",
       "      <th>2</th>\n",
       "      <td>2</td>\n",
       "      <td>-1.509059</td>\n",
       "    </tr>\n",
       "    <tr>\n",
       "      <th>3</th>\n",
       "      <td>0</td>\n",
       "      <td>-1.135632</td>\n",
       "    </tr>\n",
       "    <tr>\n",
       "      <th>4</th>\n",
       "      <td>1</td>\n",
       "      <td>1.212112</td>\n",
       "    </tr>\n",
       "    <tr>\n",
       "      <th>5</th>\n",
       "      <td>2</td>\n",
       "      <td>-0.173215</td>\n",
       "    </tr>\n",
       "  </tbody>\n",
       "</table>\n",
       "</div>"
      ],
      "text/plain": [
       "   index         0\n",
       "0      0  0.469112\n",
       "1      1 -0.282863\n",
       "2      2 -1.509059\n",
       "3      0 -1.135632\n",
       "4      1  1.212112\n",
       "5      2 -0.173215"
      ]
     },
     "execution_count": 31,
     "metadata": {},
     "output_type": "execute_result"
    }
   ],
   "source": [
    "combined.reset_index()"
   ]
  },
  {
   "cell_type": "code",
   "execution_count": 32,
   "id": "25ef8354",
   "metadata": {},
   "outputs": [
    {
     "data": {
      "text/plain": [
       "0    0.469112\n",
       "1   -0.282863\n",
       "2   -1.509059\n",
       "3   -1.135632\n",
       "4    1.212112\n",
       "5   -0.173215\n",
       "dtype: float64"
      ]
     },
     "execution_count": 32,
     "metadata": {},
     "output_type": "execute_result"
    }
   ],
   "source": [
    "combined.reset_index(drop=True)"
   ]
  },
  {
   "cell_type": "code",
   "execution_count": 33,
   "id": "b6992096",
   "metadata": {},
   "outputs": [
    {
     "data": {
      "text/plain": [
       "0      0.469112\n",
       "1     -0.282863\n",
       "2     -1.509059\n",
       "0     -1.135632\n",
       "1      1.212112\n",
       "2     -0.173215\n",
       "4    456.000000\n",
       "dtype: float64"
      ]
     },
     "execution_count": 33,
     "metadata": {},
     "output_type": "execute_result"
    }
   ],
   "source": [
    "combined[4] = 456\n",
    "combined"
   ]
  },
  {
   "cell_type": "code",
   "execution_count": 34,
   "id": "37a74e19",
   "metadata": {},
   "outputs": [
    {
     "data": {
      "text/plain": [
       "1     -0.282863\n",
       "2     -1.509059\n",
       "1      1.212112\n",
       "2     -0.173215\n",
       "4    456.000000\n",
       "dtype: float64"
      ]
     },
     "execution_count": 34,
     "metadata": {},
     "output_type": "execute_result"
    }
   ],
   "source": [
    "del combined[0]\n",
    "combined"
   ]
  },
  {
   "cell_type": "code",
   "execution_count": 35,
   "id": "583093ad",
   "metadata": {},
   "outputs": [
    {
     "data": {
      "text/plain": [
       "1     -0.282863\n",
       "2     -1.509059\n",
       "1      1.212112\n",
       "2     -0.173215\n",
       "4    456.000000\n",
       "dtype: float64"
      ]
     },
     "execution_count": 35,
     "metadata": {},
     "output_type": "execute_result"
    }
   ],
   "source": [
    "newCom = combined.copy()\n",
    "newCom"
   ]
  },
  {
   "cell_type": "markdown",
   "id": "1ad0ab59",
   "metadata": {},
   "source": [
    "# Pandas Data Frame"
   ]
  },
  {
   "cell_type": "code",
   "execution_count": 36,
   "id": "6e278050",
   "metadata": {},
   "outputs": [],
   "source": [
    "students = {\"roll\":[1,2,3,4,5,6],\n",
    "            \"name\":[\"Ali\",\"Ahmed\",\"Shazia\",\"Kiran\",\"usman\",\"Amjad\"],\n",
    "            \"courses\":[\"python\",\"Pandas\",\"Numpy\",\"pandas\",\"Numpy\",\"JavaS\"],\n",
    "            \"mode\":[\"online\",\"online\",\"onsite\",\"online\",\"onsite\",\"online\"]}"
   ]
  },
  {
   "cell_type": "code",
   "execution_count": 37,
   "id": "62d232a2",
   "metadata": {},
   "outputs": [
    {
     "data": {
      "text/html": [
       "<div>\n",
       "<style scoped>\n",
       "    .dataframe tbody tr th:only-of-type {\n",
       "        vertical-align: middle;\n",
       "    }\n",
       "\n",
       "    .dataframe tbody tr th {\n",
       "        vertical-align: top;\n",
       "    }\n",
       "\n",
       "    .dataframe thead th {\n",
       "        text-align: right;\n",
       "    }\n",
       "</style>\n",
       "<table border=\"1\" class=\"dataframe\">\n",
       "  <thead>\n",
       "    <tr style=\"text-align: right;\">\n",
       "      <th></th>\n",
       "      <th>roll</th>\n",
       "      <th>name</th>\n",
       "      <th>courses</th>\n",
       "      <th>mode</th>\n",
       "    </tr>\n",
       "  </thead>\n",
       "  <tbody>\n",
       "    <tr>\n",
       "      <th>0</th>\n",
       "      <td>1</td>\n",
       "      <td>Ali</td>\n",
       "      <td>python</td>\n",
       "      <td>online</td>\n",
       "    </tr>\n",
       "    <tr>\n",
       "      <th>1</th>\n",
       "      <td>2</td>\n",
       "      <td>Ahmed</td>\n",
       "      <td>Pandas</td>\n",
       "      <td>online</td>\n",
       "    </tr>\n",
       "    <tr>\n",
       "      <th>2</th>\n",
       "      <td>3</td>\n",
       "      <td>Shazia</td>\n",
       "      <td>Numpy</td>\n",
       "      <td>onsite</td>\n",
       "    </tr>\n",
       "    <tr>\n",
       "      <th>3</th>\n",
       "      <td>4</td>\n",
       "      <td>Kiran</td>\n",
       "      <td>pandas</td>\n",
       "      <td>online</td>\n",
       "    </tr>\n",
       "    <tr>\n",
       "      <th>4</th>\n",
       "      <td>5</td>\n",
       "      <td>usman</td>\n",
       "      <td>Numpy</td>\n",
       "      <td>onsite</td>\n",
       "    </tr>\n",
       "    <tr>\n",
       "      <th>5</th>\n",
       "      <td>6</td>\n",
       "      <td>Amjad</td>\n",
       "      <td>JavaS</td>\n",
       "      <td>online</td>\n",
       "    </tr>\n",
       "  </tbody>\n",
       "</table>\n",
       "</div>"
      ],
      "text/plain": [
       "   roll    name courses    mode\n",
       "0     1     Ali  python  online\n",
       "1     2   Ahmed  Pandas  online\n",
       "2     3  Shazia   Numpy  onsite\n",
       "3     4   Kiran  pandas  online\n",
       "4     5   usman   Numpy  onsite\n",
       "5     6   Amjad   JavaS  online"
      ]
     },
     "execution_count": 37,
     "metadata": {},
     "output_type": "execute_result"
    }
   ],
   "source": [
    "# Creating a dataframe\n",
    "df = pd.DataFrame(students)\n",
    "df"
   ]
  },
  {
   "cell_type": "code",
   "execution_count": 38,
   "id": "5dbb1a78",
   "metadata": {},
   "outputs": [
    {
     "data": {
      "text/plain": [
       "pandas.core.series.Series"
      ]
     },
     "execution_count": 38,
     "metadata": {},
     "output_type": "execute_result"
    }
   ],
   "source": [
    "type(df[\"roll\"])"
   ]
  },
  {
   "cell_type": "code",
   "execution_count": 39,
   "id": "2cde788b",
   "metadata": {},
   "outputs": [
    {
     "data": {
      "text/plain": [
       "pandas.core.frame.DataFrame"
      ]
     },
     "execution_count": 39,
     "metadata": {},
     "output_type": "execute_result"
    }
   ],
   "source": [
    "type(df[[\"roll\",\"name\"]])"
   ]
  },
  {
   "cell_type": "code",
   "execution_count": 40,
   "id": "e60ebaaa",
   "metadata": {},
   "outputs": [],
   "source": [
    "# Accressing Data\n",
    "# Coulmns"
   ]
  },
  {
   "cell_type": "code",
   "execution_count": 41,
   "id": "939de583",
   "metadata": {},
   "outputs": [
    {
     "data": {
      "text/plain": [
       "0    python\n",
       "1    Pandas\n",
       "2     Numpy\n",
       "3    pandas\n",
       "4     Numpy\n",
       "5     JavaS\n",
       "Name: courses, dtype: object"
      ]
     },
     "execution_count": 41,
     "metadata": {},
     "output_type": "execute_result"
    }
   ],
   "source": [
    "df[\"courses\"]"
   ]
  },
  {
   "cell_type": "code",
   "execution_count": 42,
   "id": "128655a3",
   "metadata": {},
   "outputs": [
    {
     "data": {
      "text/html": [
       "<div>\n",
       "<style scoped>\n",
       "    .dataframe tbody tr th:only-of-type {\n",
       "        vertical-align: middle;\n",
       "    }\n",
       "\n",
       "    .dataframe tbody tr th {\n",
       "        vertical-align: top;\n",
       "    }\n",
       "\n",
       "    .dataframe thead th {\n",
       "        text-align: right;\n",
       "    }\n",
       "</style>\n",
       "<table border=\"1\" class=\"dataframe\">\n",
       "  <thead>\n",
       "    <tr style=\"text-align: right;\">\n",
       "      <th></th>\n",
       "      <th>courses</th>\n",
       "      <th>name</th>\n",
       "    </tr>\n",
       "  </thead>\n",
       "  <tbody>\n",
       "    <tr>\n",
       "      <th>0</th>\n",
       "      <td>python</td>\n",
       "      <td>Ali</td>\n",
       "    </tr>\n",
       "    <tr>\n",
       "      <th>1</th>\n",
       "      <td>Pandas</td>\n",
       "      <td>Ahmed</td>\n",
       "    </tr>\n",
       "    <tr>\n",
       "      <th>2</th>\n",
       "      <td>Numpy</td>\n",
       "      <td>Shazia</td>\n",
       "    </tr>\n",
       "    <tr>\n",
       "      <th>3</th>\n",
       "      <td>pandas</td>\n",
       "      <td>Kiran</td>\n",
       "    </tr>\n",
       "    <tr>\n",
       "      <th>4</th>\n",
       "      <td>Numpy</td>\n",
       "      <td>usman</td>\n",
       "    </tr>\n",
       "    <tr>\n",
       "      <th>5</th>\n",
       "      <td>JavaS</td>\n",
       "      <td>Amjad</td>\n",
       "    </tr>\n",
       "  </tbody>\n",
       "</table>\n",
       "</div>"
      ],
      "text/plain": [
       "  courses    name\n",
       "0  python     Ali\n",
       "1  Pandas   Ahmed\n",
       "2   Numpy  Shazia\n",
       "3  pandas   Kiran\n",
       "4   Numpy   usman\n",
       "5   JavaS   Amjad"
      ]
     },
     "execution_count": 42,
     "metadata": {},
     "output_type": "execute_result"
    }
   ],
   "source": [
    "df[[\"courses\",\"name\"]]"
   ]
  },
  {
   "cell_type": "code",
   "execution_count": 43,
   "id": "798f469a",
   "metadata": {},
   "outputs": [
    {
     "data": {
      "text/html": [
       "<div>\n",
       "<style scoped>\n",
       "    .dataframe tbody tr th:only-of-type {\n",
       "        vertical-align: middle;\n",
       "    }\n",
       "\n",
       "    .dataframe tbody tr th {\n",
       "        vertical-align: top;\n",
       "    }\n",
       "\n",
       "    .dataframe thead th {\n",
       "        text-align: right;\n",
       "    }\n",
       "</style>\n",
       "<table border=\"1\" class=\"dataframe\">\n",
       "  <thead>\n",
       "    <tr style=\"text-align: right;\">\n",
       "      <th></th>\n",
       "      <th>roll</th>\n",
       "      <th>name</th>\n",
       "      <th>courses</th>\n",
       "      <th>mode</th>\n",
       "      <th>country</th>\n",
       "    </tr>\n",
       "  </thead>\n",
       "  <tbody>\n",
       "    <tr>\n",
       "      <th>0</th>\n",
       "      <td>1</td>\n",
       "      <td>Ali</td>\n",
       "      <td>python</td>\n",
       "      <td>online</td>\n",
       "      <td>Pakistan</td>\n",
       "    </tr>\n",
       "    <tr>\n",
       "      <th>1</th>\n",
       "      <td>2</td>\n",
       "      <td>Ahmed</td>\n",
       "      <td>Pandas</td>\n",
       "      <td>online</td>\n",
       "      <td>Pakistan</td>\n",
       "    </tr>\n",
       "    <tr>\n",
       "      <th>2</th>\n",
       "      <td>3</td>\n",
       "      <td>Shazia</td>\n",
       "      <td>Numpy</td>\n",
       "      <td>onsite</td>\n",
       "      <td>Pakistan</td>\n",
       "    </tr>\n",
       "    <tr>\n",
       "      <th>3</th>\n",
       "      <td>4</td>\n",
       "      <td>Kiran</td>\n",
       "      <td>pandas</td>\n",
       "      <td>online</td>\n",
       "      <td>Pakistan</td>\n",
       "    </tr>\n",
       "    <tr>\n",
       "      <th>4</th>\n",
       "      <td>5</td>\n",
       "      <td>usman</td>\n",
       "      <td>Numpy</td>\n",
       "      <td>onsite</td>\n",
       "      <td>Pakistan</td>\n",
       "    </tr>\n",
       "    <tr>\n",
       "      <th>5</th>\n",
       "      <td>6</td>\n",
       "      <td>Amjad</td>\n",
       "      <td>JavaS</td>\n",
       "      <td>online</td>\n",
       "      <td>Pakistan</td>\n",
       "    </tr>\n",
       "  </tbody>\n",
       "</table>\n",
       "</div>"
      ],
      "text/plain": [
       "   roll    name courses    mode   country\n",
       "0     1     Ali  python  online  Pakistan\n",
       "1     2   Ahmed  Pandas  online  Pakistan\n",
       "2     3  Shazia   Numpy  onsite  Pakistan\n",
       "3     4   Kiran  pandas  online  Pakistan\n",
       "4     5   usman   Numpy  onsite  Pakistan\n",
       "5     6   Amjad   JavaS  online  Pakistan"
      ]
     },
     "execution_count": 43,
     "metadata": {},
     "output_type": "execute_result"
    }
   ],
   "source": [
    "df[\"country\"] = \"Pakistan\"\n",
    "df"
   ]
  },
  {
   "cell_type": "code",
   "execution_count": 44,
   "id": "7d647265",
   "metadata": {},
   "outputs": [
    {
     "data": {
      "text/html": [
       "<div>\n",
       "<style scoped>\n",
       "    .dataframe tbody tr th:only-of-type {\n",
       "        vertical-align: middle;\n",
       "    }\n",
       "\n",
       "    .dataframe tbody tr th {\n",
       "        vertical-align: top;\n",
       "    }\n",
       "\n",
       "    .dataframe thead th {\n",
       "        text-align: right;\n",
       "    }\n",
       "</style>\n",
       "<table border=\"1\" class=\"dataframe\">\n",
       "  <thead>\n",
       "    <tr style=\"text-align: right;\">\n",
       "      <th></th>\n",
       "      <th>roll</th>\n",
       "      <th>name</th>\n",
       "      <th>courses</th>\n",
       "      <th>mode</th>\n",
       "      <th>country</th>\n",
       "      <th>Ages</th>\n",
       "    </tr>\n",
       "  </thead>\n",
       "  <tbody>\n",
       "    <tr>\n",
       "      <th>0</th>\n",
       "      <td>1</td>\n",
       "      <td>Ali</td>\n",
       "      <td>python</td>\n",
       "      <td>online</td>\n",
       "      <td>Pakistan</td>\n",
       "      <td>22</td>\n",
       "    </tr>\n",
       "    <tr>\n",
       "      <th>1</th>\n",
       "      <td>2</td>\n",
       "      <td>Ahmed</td>\n",
       "      <td>Pandas</td>\n",
       "      <td>online</td>\n",
       "      <td>Pakistan</td>\n",
       "      <td>23</td>\n",
       "    </tr>\n",
       "    <tr>\n",
       "      <th>2</th>\n",
       "      <td>3</td>\n",
       "      <td>Shazia</td>\n",
       "      <td>Numpy</td>\n",
       "      <td>onsite</td>\n",
       "      <td>Pakistan</td>\n",
       "      <td>21</td>\n",
       "    </tr>\n",
       "    <tr>\n",
       "      <th>3</th>\n",
       "      <td>4</td>\n",
       "      <td>Kiran</td>\n",
       "      <td>pandas</td>\n",
       "      <td>online</td>\n",
       "      <td>Pakistan</td>\n",
       "      <td>19</td>\n",
       "    </tr>\n",
       "    <tr>\n",
       "      <th>4</th>\n",
       "      <td>5</td>\n",
       "      <td>usman</td>\n",
       "      <td>Numpy</td>\n",
       "      <td>onsite</td>\n",
       "      <td>Pakistan</td>\n",
       "      <td>20</td>\n",
       "    </tr>\n",
       "    <tr>\n",
       "      <th>5</th>\n",
       "      <td>6</td>\n",
       "      <td>Amjad</td>\n",
       "      <td>JavaS</td>\n",
       "      <td>online</td>\n",
       "      <td>Pakistan</td>\n",
       "      <td>22</td>\n",
       "    </tr>\n",
       "  </tbody>\n",
       "</table>\n",
       "</div>"
      ],
      "text/plain": [
       "   roll    name courses    mode   country  Ages\n",
       "0     1     Ali  python  online  Pakistan    22\n",
       "1     2   Ahmed  Pandas  online  Pakistan    23\n",
       "2     3  Shazia   Numpy  onsite  Pakistan    21\n",
       "3     4   Kiran  pandas  online  Pakistan    19\n",
       "4     5   usman   Numpy  onsite  Pakistan    20\n",
       "5     6   Amjad   JavaS  online  Pakistan    22"
      ]
     },
     "execution_count": 44,
     "metadata": {},
     "output_type": "execute_result"
    }
   ],
   "source": [
    "df[\"Ages\"] = [22,23, 21,19,20,22]\n",
    "df"
   ]
  },
  {
   "cell_type": "code",
   "execution_count": 45,
   "id": "4dad858c",
   "metadata": {},
   "outputs": [
    {
     "data": {
      "text/html": [
       "<div>\n",
       "<style scoped>\n",
       "    .dataframe tbody tr th:only-of-type {\n",
       "        vertical-align: middle;\n",
       "    }\n",
       "\n",
       "    .dataframe tbody tr th {\n",
       "        vertical-align: top;\n",
       "    }\n",
       "\n",
       "    .dataframe thead th {\n",
       "        text-align: right;\n",
       "    }\n",
       "</style>\n",
       "<table border=\"1\" class=\"dataframe\">\n",
       "  <thead>\n",
       "    <tr style=\"text-align: right;\">\n",
       "      <th></th>\n",
       "      <th>roll</th>\n",
       "      <th>name</th>\n",
       "      <th>courses</th>\n",
       "      <th>mode</th>\n",
       "      <th>country</th>\n",
       "      <th>Ages</th>\n",
       "      <th>Status</th>\n",
       "    </tr>\n",
       "  </thead>\n",
       "  <tbody>\n",
       "    <tr>\n",
       "      <th>0</th>\n",
       "      <td>1</td>\n",
       "      <td>Ali</td>\n",
       "      <td>python</td>\n",
       "      <td>online</td>\n",
       "      <td>Pakistan</td>\n",
       "      <td>22</td>\n",
       "      <td>Pass</td>\n",
       "    </tr>\n",
       "    <tr>\n",
       "      <th>1</th>\n",
       "      <td>2</td>\n",
       "      <td>Ahmed</td>\n",
       "      <td>Pandas</td>\n",
       "      <td>online</td>\n",
       "      <td>Pakistan</td>\n",
       "      <td>23</td>\n",
       "      <td>Pass</td>\n",
       "    </tr>\n",
       "    <tr>\n",
       "      <th>2</th>\n",
       "      <td>3</td>\n",
       "      <td>Shazia</td>\n",
       "      <td>Numpy</td>\n",
       "      <td>onsite</td>\n",
       "      <td>Pakistan</td>\n",
       "      <td>21</td>\n",
       "      <td>Pass</td>\n",
       "    </tr>\n",
       "    <tr>\n",
       "      <th>3</th>\n",
       "      <td>4</td>\n",
       "      <td>Kiran</td>\n",
       "      <td>pandas</td>\n",
       "      <td>online</td>\n",
       "      <td>Pakistan</td>\n",
       "      <td>19</td>\n",
       "      <td>Fail</td>\n",
       "    </tr>\n",
       "    <tr>\n",
       "      <th>4</th>\n",
       "      <td>5</td>\n",
       "      <td>usman</td>\n",
       "      <td>Numpy</td>\n",
       "      <td>onsite</td>\n",
       "      <td>Pakistan</td>\n",
       "      <td>20</td>\n",
       "      <td>Fail</td>\n",
       "    </tr>\n",
       "    <tr>\n",
       "      <th>5</th>\n",
       "      <td>6</td>\n",
       "      <td>Amjad</td>\n",
       "      <td>JavaS</td>\n",
       "      <td>online</td>\n",
       "      <td>Pakistan</td>\n",
       "      <td>22</td>\n",
       "      <td>Pass</td>\n",
       "    </tr>\n",
       "  </tbody>\n",
       "</table>\n",
       "</div>"
      ],
      "text/plain": [
       "   roll    name courses    mode   country  Ages Status\n",
       "0     1     Ali  python  online  Pakistan    22   Pass\n",
       "1     2   Ahmed  Pandas  online  Pakistan    23   Pass\n",
       "2     3  Shazia   Numpy  onsite  Pakistan    21   Pass\n",
       "3     4   Kiran  pandas  online  Pakistan    19   Fail\n",
       "4     5   usman   Numpy  onsite  Pakistan    20   Fail\n",
       "5     6   Amjad   JavaS  online  Pakistan    22   Pass"
      ]
     },
     "execution_count": 45,
     "metadata": {},
     "output_type": "execute_result"
    }
   ],
   "source": [
    "df[\"Status\"] = [\"Pass\" if age>20 else \"Fail\" for age in df[\"Ages\"]]\n",
    "df"
   ]
  },
  {
   "cell_type": "code",
   "execution_count": 46,
   "id": "bc2dda63",
   "metadata": {},
   "outputs": [
    {
     "data": {
      "text/html": [
       "<div>\n",
       "<style scoped>\n",
       "    .dataframe tbody tr th:only-of-type {\n",
       "        vertical-align: middle;\n",
       "    }\n",
       "\n",
       "    .dataframe tbody tr th {\n",
       "        vertical-align: top;\n",
       "    }\n",
       "\n",
       "    .dataframe thead th {\n",
       "        text-align: right;\n",
       "    }\n",
       "</style>\n",
       "<table border=\"1\" class=\"dataframe\">\n",
       "  <thead>\n",
       "    <tr style=\"text-align: right;\">\n",
       "      <th></th>\n",
       "      <th>roll</th>\n",
       "      <th>name</th>\n",
       "      <th>courses</th>\n",
       "      <th>mode</th>\n",
       "      <th>country</th>\n",
       "      <th>Ages</th>\n",
       "      <th>Status</th>\n",
       "      <th>City</th>\n",
       "    </tr>\n",
       "  </thead>\n",
       "  <tbody>\n",
       "    <tr>\n",
       "      <th>0</th>\n",
       "      <td>1</td>\n",
       "      <td>Ali</td>\n",
       "      <td>python</td>\n",
       "      <td>online</td>\n",
       "      <td>Pakistan</td>\n",
       "      <td>22</td>\n",
       "      <td>Pass</td>\n",
       "      <td>online</td>\n",
       "    </tr>\n",
       "    <tr>\n",
       "      <th>1</th>\n",
       "      <td>2</td>\n",
       "      <td>Ahmed</td>\n",
       "      <td>Pandas</td>\n",
       "      <td>online</td>\n",
       "      <td>Pakistan</td>\n",
       "      <td>23</td>\n",
       "      <td>Pass</td>\n",
       "      <td>online</td>\n",
       "    </tr>\n",
       "    <tr>\n",
       "      <th>2</th>\n",
       "      <td>3</td>\n",
       "      <td>Shazia</td>\n",
       "      <td>Numpy</td>\n",
       "      <td>onsite</td>\n",
       "      <td>Pakistan</td>\n",
       "      <td>21</td>\n",
       "      <td>Pass</td>\n",
       "      <td>onsite</td>\n",
       "    </tr>\n",
       "    <tr>\n",
       "      <th>3</th>\n",
       "      <td>4</td>\n",
       "      <td>Kiran</td>\n",
       "      <td>pandas</td>\n",
       "      <td>online</td>\n",
       "      <td>Pakistan</td>\n",
       "      <td>19</td>\n",
       "      <td>Fail</td>\n",
       "      <td>online</td>\n",
       "    </tr>\n",
       "    <tr>\n",
       "      <th>4</th>\n",
       "      <td>5</td>\n",
       "      <td>usman</td>\n",
       "      <td>Numpy</td>\n",
       "      <td>onsite</td>\n",
       "      <td>Pakistan</td>\n",
       "      <td>20</td>\n",
       "      <td>Fail</td>\n",
       "      <td>onsite</td>\n",
       "    </tr>\n",
       "    <tr>\n",
       "      <th>5</th>\n",
       "      <td>6</td>\n",
       "      <td>Amjad</td>\n",
       "      <td>JavaS</td>\n",
       "      <td>online</td>\n",
       "      <td>Pakistan</td>\n",
       "      <td>22</td>\n",
       "      <td>Pass</td>\n",
       "      <td>online</td>\n",
       "    </tr>\n",
       "  </tbody>\n",
       "</table>\n",
       "</div>"
      ],
      "text/plain": [
       "   roll    name courses    mode   country  Ages Status    City\n",
       "0     1     Ali  python  online  Pakistan    22   Pass  online\n",
       "1     2   Ahmed  Pandas  online  Pakistan    23   Pass  online\n",
       "2     3  Shazia   Numpy  onsite  Pakistan    21   Pass  onsite\n",
       "3     4   Kiran  pandas  online  Pakistan    19   Fail  online\n",
       "4     5   usman   Numpy  onsite  Pakistan    20   Fail  onsite\n",
       "5     6   Amjad   JavaS  online  Pakistan    22   Pass  online"
      ]
     },
     "execution_count": 46,
     "metadata": {},
     "output_type": "execute_result"
    }
   ],
   "source": [
    "df[\"City\"] = df['mode'].apply (lambda x:x)\n",
    "df"
   ]
  },
  {
   "cell_type": "code",
   "execution_count": 47,
   "id": "26a47cf7",
   "metadata": {},
   "outputs": [
    {
     "data": {
      "text/html": [
       "<div>\n",
       "<style scoped>\n",
       "    .dataframe tbody tr th:only-of-type {\n",
       "        vertical-align: middle;\n",
       "    }\n",
       "\n",
       "    .dataframe tbody tr th {\n",
       "        vertical-align: top;\n",
       "    }\n",
       "\n",
       "    .dataframe thead th {\n",
       "        text-align: right;\n",
       "    }\n",
       "</style>\n",
       "<table border=\"1\" class=\"dataframe\">\n",
       "  <thead>\n",
       "    <tr style=\"text-align: right;\">\n",
       "      <th></th>\n",
       "      <th>roll</th>\n",
       "      <th>name</th>\n",
       "      <th>courses</th>\n",
       "      <th>mode</th>\n",
       "      <th>country</th>\n",
       "      <th>Ages</th>\n",
       "      <th>Status</th>\n",
       "      <th>City</th>\n",
       "    </tr>\n",
       "  </thead>\n",
       "  <tbody>\n",
       "    <tr>\n",
       "      <th>0</th>\n",
       "      <td>1</td>\n",
       "      <td>Ali</td>\n",
       "      <td>python</td>\n",
       "      <td>online</td>\n",
       "      <td>Pakistan</td>\n",
       "      <td>22</td>\n",
       "      <td>Pass</td>\n",
       "      <td>outside khi</td>\n",
       "    </tr>\n",
       "    <tr>\n",
       "      <th>1</th>\n",
       "      <td>2</td>\n",
       "      <td>Ahmed</td>\n",
       "      <td>Pandas</td>\n",
       "      <td>online</td>\n",
       "      <td>Pakistan</td>\n",
       "      <td>23</td>\n",
       "      <td>Pass</td>\n",
       "      <td>outside khi</td>\n",
       "    </tr>\n",
       "    <tr>\n",
       "      <th>2</th>\n",
       "      <td>3</td>\n",
       "      <td>Shazia</td>\n",
       "      <td>Numpy</td>\n",
       "      <td>onsite</td>\n",
       "      <td>Pakistan</td>\n",
       "      <td>21</td>\n",
       "      <td>Pass</td>\n",
       "      <td>karachi</td>\n",
       "    </tr>\n",
       "    <tr>\n",
       "      <th>3</th>\n",
       "      <td>4</td>\n",
       "      <td>Kiran</td>\n",
       "      <td>pandas</td>\n",
       "      <td>online</td>\n",
       "      <td>Pakistan</td>\n",
       "      <td>19</td>\n",
       "      <td>Fail</td>\n",
       "      <td>outside khi</td>\n",
       "    </tr>\n",
       "    <tr>\n",
       "      <th>4</th>\n",
       "      <td>5</td>\n",
       "      <td>usman</td>\n",
       "      <td>Numpy</td>\n",
       "      <td>onsite</td>\n",
       "      <td>Pakistan</td>\n",
       "      <td>20</td>\n",
       "      <td>Fail</td>\n",
       "      <td>karachi</td>\n",
       "    </tr>\n",
       "    <tr>\n",
       "      <th>5</th>\n",
       "      <td>6</td>\n",
       "      <td>Amjad</td>\n",
       "      <td>JavaS</td>\n",
       "      <td>online</td>\n",
       "      <td>Pakistan</td>\n",
       "      <td>22</td>\n",
       "      <td>Pass</td>\n",
       "      <td>outside khi</td>\n",
       "    </tr>\n",
       "  </tbody>\n",
       "</table>\n",
       "</div>"
      ],
      "text/plain": [
       "   roll    name courses    mode   country  Ages Status         City\n",
       "0     1     Ali  python  online  Pakistan    22   Pass  outside khi\n",
       "1     2   Ahmed  Pandas  online  Pakistan    23   Pass  outside khi\n",
       "2     3  Shazia   Numpy  onsite  Pakistan    21   Pass      karachi\n",
       "3     4   Kiran  pandas  online  Pakistan    19   Fail  outside khi\n",
       "4     5   usman   Numpy  onsite  Pakistan    20   Fail      karachi\n",
       "5     6   Amjad   JavaS  online  Pakistan    22   Pass  outside khi"
      ]
     },
     "execution_count": 47,
     "metadata": {},
     "output_type": "execute_result"
    }
   ],
   "source": [
    "df[\"City\"] = df['mode'].apply (lambda x:\"karachi\" if x==\"onsite\" else \"outside khi\")\n",
    "df"
   ]
  },
  {
   "cell_type": "code",
   "execution_count": 48,
   "id": "d815bf42",
   "metadata": {},
   "outputs": [
    {
     "data": {
      "text/html": [
       "<div>\n",
       "<style scoped>\n",
       "    .dataframe tbody tr th:only-of-type {\n",
       "        vertical-align: middle;\n",
       "    }\n",
       "\n",
       "    .dataframe tbody tr th {\n",
       "        vertical-align: top;\n",
       "    }\n",
       "\n",
       "    .dataframe thead th {\n",
       "        text-align: right;\n",
       "    }\n",
       "</style>\n",
       "<table border=\"1\" class=\"dataframe\">\n",
       "  <thead>\n",
       "    <tr style=\"text-align: right;\">\n",
       "      <th></th>\n",
       "      <th>roll</th>\n",
       "      <th>name</th>\n",
       "      <th>courses</th>\n",
       "      <th>mode</th>\n",
       "      <th>country</th>\n",
       "      <th>Ages</th>\n",
       "      <th>Status</th>\n",
       "      <th>City</th>\n",
       "    </tr>\n",
       "  </thead>\n",
       "  <tbody>\n",
       "    <tr>\n",
       "      <th>0</th>\n",
       "      <td>1</td>\n",
       "      <td>Ali</td>\n",
       "      <td>python</td>\n",
       "      <td>online</td>\n",
       "      <td>Pakistan</td>\n",
       "      <td>22</td>\n",
       "      <td>Pass</td>\n",
       "      <td>outside</td>\n",
       "    </tr>\n",
       "    <tr>\n",
       "      <th>1</th>\n",
       "      <td>2</td>\n",
       "      <td>Ahmed</td>\n",
       "      <td>Pandas</td>\n",
       "      <td>online</td>\n",
       "      <td>Pakistan</td>\n",
       "      <td>23</td>\n",
       "      <td>Pass</td>\n",
       "      <td>outside</td>\n",
       "    </tr>\n",
       "    <tr>\n",
       "      <th>2</th>\n",
       "      <td>3</td>\n",
       "      <td>Shazia</td>\n",
       "      <td>Numpy</td>\n",
       "      <td>onsite</td>\n",
       "      <td>Pakistan</td>\n",
       "      <td>21</td>\n",
       "      <td>Pass</td>\n",
       "      <td>karachi</td>\n",
       "    </tr>\n",
       "    <tr>\n",
       "      <th>3</th>\n",
       "      <td>4</td>\n",
       "      <td>Kiran</td>\n",
       "      <td>pandas</td>\n",
       "      <td>online</td>\n",
       "      <td>Pakistan</td>\n",
       "      <td>19</td>\n",
       "      <td>Fail</td>\n",
       "      <td>outside</td>\n",
       "    </tr>\n",
       "    <tr>\n",
       "      <th>4</th>\n",
       "      <td>5</td>\n",
       "      <td>usman</td>\n",
       "      <td>Numpy</td>\n",
       "      <td>onsite</td>\n",
       "      <td>Pakistan</td>\n",
       "      <td>20</td>\n",
       "      <td>Fail</td>\n",
       "      <td>karachi</td>\n",
       "    </tr>\n",
       "    <tr>\n",
       "      <th>5</th>\n",
       "      <td>6</td>\n",
       "      <td>Amjad</td>\n",
       "      <td>JavaS</td>\n",
       "      <td>online</td>\n",
       "      <td>Pakistan</td>\n",
       "      <td>22</td>\n",
       "      <td>Pass</td>\n",
       "      <td>outside</td>\n",
       "    </tr>\n",
       "  </tbody>\n",
       "</table>\n",
       "</div>"
      ],
      "text/plain": [
       "   roll    name courses    mode   country  Ages Status     City\n",
       "0     1     Ali  python  online  Pakistan    22   Pass  outside\n",
       "1     2   Ahmed  Pandas  online  Pakistan    23   Pass  outside\n",
       "2     3  Shazia   Numpy  onsite  Pakistan    21   Pass  karachi\n",
       "3     4   Kiran  pandas  online  Pakistan    19   Fail  outside\n",
       "4     5   usman   Numpy  onsite  Pakistan    20   Fail  karachi\n",
       "5     6   Amjad   JavaS  online  Pakistan    22   Pass  outside"
      ]
     },
     "execution_count": 48,
     "metadata": {},
     "output_type": "execute_result"
    }
   ],
   "source": [
    "df[\"City\"] = df['mode'].apply (lambda x:np.where(x==\"onsite\",\"karachi\",\"outside\"))\n",
    "df"
   ]
  },
  {
   "cell_type": "code",
   "execution_count": 49,
   "id": "714d56b8",
   "metadata": {},
   "outputs": [],
   "source": [
    "def generationAssign(age):\n",
    "    if age<20:\n",
    "        return \"Teenager\"\n",
    "    elif age<40:\n",
    "        return \"Young\"\n",
    "    elif age<60:\n",
    "        return \"Mature\"\n",
    "    else:\n",
    "        return \"Senior\""
   ]
  },
  {
   "cell_type": "code",
   "execution_count": 50,
   "id": "06b8a71f",
   "metadata": {},
   "outputs": [],
   "source": [
    "df[\"Generation\"] = df.Ages.apply(generationAssign)"
   ]
  },
  {
   "cell_type": "code",
   "execution_count": 51,
   "id": "2c71f4c3",
   "metadata": {},
   "outputs": [
    {
     "data": {
      "text/html": [
       "<div>\n",
       "<style scoped>\n",
       "    .dataframe tbody tr th:only-of-type {\n",
       "        vertical-align: middle;\n",
       "    }\n",
       "\n",
       "    .dataframe tbody tr th {\n",
       "        vertical-align: top;\n",
       "    }\n",
       "\n",
       "    .dataframe thead th {\n",
       "        text-align: right;\n",
       "    }\n",
       "</style>\n",
       "<table border=\"1\" class=\"dataframe\">\n",
       "  <thead>\n",
       "    <tr style=\"text-align: right;\">\n",
       "      <th></th>\n",
       "      <th>roll</th>\n",
       "      <th>name</th>\n",
       "      <th>courses</th>\n",
       "      <th>mode</th>\n",
       "      <th>country</th>\n",
       "      <th>Ages</th>\n",
       "      <th>Status</th>\n",
       "      <th>City</th>\n",
       "      <th>Generation</th>\n",
       "    </tr>\n",
       "  </thead>\n",
       "  <tbody>\n",
       "    <tr>\n",
       "      <th>0</th>\n",
       "      <td>1</td>\n",
       "      <td>Ali</td>\n",
       "      <td>python</td>\n",
       "      <td>online</td>\n",
       "      <td>Pakistan</td>\n",
       "      <td>22</td>\n",
       "      <td>Pass</td>\n",
       "      <td>outside</td>\n",
       "      <td>Young</td>\n",
       "    </tr>\n",
       "    <tr>\n",
       "      <th>1</th>\n",
       "      <td>2</td>\n",
       "      <td>Ahmed</td>\n",
       "      <td>Pandas</td>\n",
       "      <td>online</td>\n",
       "      <td>Pakistan</td>\n",
       "      <td>23</td>\n",
       "      <td>Pass</td>\n",
       "      <td>outside</td>\n",
       "      <td>Young</td>\n",
       "    </tr>\n",
       "    <tr>\n",
       "      <th>2</th>\n",
       "      <td>3</td>\n",
       "      <td>Shazia</td>\n",
       "      <td>Numpy</td>\n",
       "      <td>onsite</td>\n",
       "      <td>Pakistan</td>\n",
       "      <td>21</td>\n",
       "      <td>Pass</td>\n",
       "      <td>karachi</td>\n",
       "      <td>Young</td>\n",
       "    </tr>\n",
       "    <tr>\n",
       "      <th>3</th>\n",
       "      <td>4</td>\n",
       "      <td>Kiran</td>\n",
       "      <td>pandas</td>\n",
       "      <td>online</td>\n",
       "      <td>Pakistan</td>\n",
       "      <td>19</td>\n",
       "      <td>Fail</td>\n",
       "      <td>outside</td>\n",
       "      <td>Teenager</td>\n",
       "    </tr>\n",
       "    <tr>\n",
       "      <th>4</th>\n",
       "      <td>5</td>\n",
       "      <td>usman</td>\n",
       "      <td>Numpy</td>\n",
       "      <td>onsite</td>\n",
       "      <td>Pakistan</td>\n",
       "      <td>20</td>\n",
       "      <td>Fail</td>\n",
       "      <td>karachi</td>\n",
       "      <td>Young</td>\n",
       "    </tr>\n",
       "    <tr>\n",
       "      <th>5</th>\n",
       "      <td>6</td>\n",
       "      <td>Amjad</td>\n",
       "      <td>JavaS</td>\n",
       "      <td>online</td>\n",
       "      <td>Pakistan</td>\n",
       "      <td>22</td>\n",
       "      <td>Pass</td>\n",
       "      <td>outside</td>\n",
       "      <td>Young</td>\n",
       "    </tr>\n",
       "  </tbody>\n",
       "</table>\n",
       "</div>"
      ],
      "text/plain": [
       "   roll    name courses    mode   country  Ages Status     City Generation\n",
       "0     1     Ali  python  online  Pakistan    22   Pass  outside      Young\n",
       "1     2   Ahmed  Pandas  online  Pakistan    23   Pass  outside      Young\n",
       "2     3  Shazia   Numpy  onsite  Pakistan    21   Pass  karachi      Young\n",
       "3     4   Kiran  pandas  online  Pakistan    19   Fail  outside   Teenager\n",
       "4     5   usman   Numpy  onsite  Pakistan    20   Fail  karachi      Young\n",
       "5     6   Amjad   JavaS  online  Pakistan    22   Pass  outside      Young"
      ]
     },
     "execution_count": 51,
     "metadata": {},
     "output_type": "execute_result"
    }
   ],
   "source": [
    "df"
   ]
  }
 ],
 "metadata": {
  "kernelspec": {
   "display_name": "Python 3 (ipykernel)",
   "language": "python",
   "name": "python3"
  },
  "language_info": {
   "codemirror_mode": {
    "name": "ipython",
    "version": 3
   },
   "file_extension": ".py",
   "mimetype": "text/x-python",
   "name": "python",
   "nbconvert_exporter": "python",
   "pygments_lexer": "ipython3",
   "version": "3.9.13"
  }
 },
 "nbformat": 4,
 "nbformat_minor": 5
}
